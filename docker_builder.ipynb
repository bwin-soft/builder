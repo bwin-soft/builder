{
 "cells": [
  {
   "cell_type": "markdown",
   "metadata": {},
   "source": [
    "##### 镜像构建脚本"
   ]
  },
  {
   "cell_type": "code",
   "execution_count": 2,
   "metadata": {},
   "outputs": [
    {
     "name": "stdout",
     "output_type": "stream",
     "text": [
      "lihong@namiao BpmPortal123 registry.cn-shenzhen.aliyuncs.com\n",
      "{'IdentityToken': '', 'Status': 'Login Succeeded'}\n",
      "lihongwansui Internet111 https://index.docker.io/v1/\n",
      "{'IdentityToken': '', 'Status': 'Login Succeeded'}\n"
     ]
    }
   ],
   "source": [
    "import docker\n",
    "import json\n",
    "import os\n",
    "client = docker.from_env()\n",
    "REGISTRY = \"registry.cn-shenzhen.aliyuncs.com/bwin/\"\n",
    "def login(username=\"lihong@namiao\",password=\"BpmPortal123\",registry=\"registry.cn-shenzhen.aliyuncs.com\"):\n",
    "    user = username\n",
    "    pwd = password\n",
    "    reg = registry\n",
    "    print(user,pwd,reg)\n",
    "    login = client.login(username=user,password=pwd,registry=reg)\n",
    "    print (login)\n",
    "    ok = login[\"Status\"] == \"Login Succeeded\"\n",
    "login() # login to aliyun registry\n",
    "login(username=\"lihongwansui\",password=\"Internet111\",registry=\"https://index.docker.io/v1/\") # login to docker hub"
   ]
  },
  {
   "cell_type": "code",
   "execution_count": 2,
   "metadata": {},
   "outputs": [],
   "source": [
    "def load_versions(fp):\n",
    "    with open('configration.json') as cfg_file:  \n",
    "        cfg = json.load(cfg_file)\n",
    "        return cfg\n",
    "def update_versions(cfg):\n",
    "    with open('configration.json', 'w') as outfile:  \n",
    "        json.dump(cfg, outfile)\n",
    "        \n",
    "versions = load_versions()\n",
    "if len(versions) == 0:\n",
    "    cfg = {\"1\":1,\"2\":1,\"3\":1,\"4\":1,\"5\":1}\n",
    "    update_versions(cfg)\n",
    "    versions = load_versions()\n",
    "    print(versions)"
   ]
  },
  {
   "cell_type": "code",
   "execution_count": 3,
   "metadata": {},
   "outputs": [
    {
     "name": "stdout",
     "output_type": "stream",
     "text": [
      "1 : [ nginx lb for coin HK ] ,当前版本: 1.0\n",
      "('nginx lb for coin HK', 'registry.cn-shenzhen.aliyuncs.com/bwin/back_service_4coin', '1.0', 'nginx_lb_coin')\n"
     ]
    }
   ],
   "source": [
    "dirs =  [fn for fn in os.listdir('.')\n",
    "              if os.path.isdir(fn) and os.path.exists(os.path.join(fn,\"image.conf\"))]\n",
    "#print (dirs)\n",
    "menus = {}\n",
    "menu_idx = 1\n",
    "for fn in dirs:\n",
    "    with open(os.path.join(fn,'image.conf')) as cfg_file:  \n",
    "        cfg = json.load(cfg_file)\n",
    "        menus[str(menu_idx)] = ((cfg['image'],cfg['registry'],cfg['last_version'],fn))\n",
    "    menu_idx += 1\n",
    "for idx,de in menus.items():\n",
    "    img,reg,ver,fn = de\n",
    "    print (idx,\":\",\"[\",img,\"]\",\",当前版本:\",ver)\n",
    "    print (de)"
   ]
  },
  {
   "cell_type": "code",
   "execution_count": null,
   "metadata": {},
   "outputs": [
    {
     "name": "stdout",
     "output_type": "stream",
     "text": [
      "选择要创建的镜像: 1\n",
      "当前版本号:1.0\n"
     ]
    }
   ],
   "source": [
    "choice = input(\"选择要创建的镜像: \") \n",
    "if choice in menus:\n",
    "    print(\"当前版本号:{}\".format(menus[choice][2]))\n",
    "else:\n",
    "    print(\"选择错误！\")\n",
    "    #exit\n",
    "version = input(\"输入新版本号:\")\n"
   ]
  },
  {
   "cell_type": "code",
   "execution_count": 83,
   "metadata": {},
   "outputs": [],
   "source": [
    "def build_image(image_name,registry,tg,docker_path):\n",
    "    build_ok = True\n",
    "    try:\n",
    "        print(\"开始创建-{}-镜像......\".format(image_name))\n",
    "        image = client.images.build(path=docker_path,tag=\"{}:{}\".format(registry,tg),rm=True,pull=True,quiet=False)\n",
    "        print(\"镜像构建完成 -({})\".format(image.tag))\n",
    "    except docker.errors.BuildError as be:\n",
    "        build_ok = False\n",
    "        print(\"镜像构建错误: {0}\".format(be))\n",
    "    except docker.errors.APIError as ae:\n",
    "        build_ok = False\n",
    "        print(\"镜像构建错误: {0}\".format(ae))\n",
    "    except TypeError as te:\n",
    "        build_ok = False\n",
    "        print(\"镜像构建错误: {0}\".format(te))\n",
    "    versions[1] = tg\n",
    "    update_versions(versions)\n",
    "    return build_ok\n",
    "\n",
    "def run_task(name, registry, version, path):\n",
    "    build_ok = build_image(name, registry, version, path)\n",
    "    if build_ok:\n",
    "        print(\"构建成功，准备push到镜像仓库......\")\n",
    "        try:\n",
    "            for line in client.images.push(\n",
    "                    repository=registry,\n",
    "                    tag=version,\n",
    "                    stream=True,\n",
    "                    auth_config={\n",
    "                        \"username\": \"lihong@namiao\",\n",
    "                        \"password\": \"BpmPortal123\"\n",
    "                    }):\n",
    "                print(line)\n",
    "            print(\"push 完成，请检查push结果。\")\n",
    "        except:\n",
    "            print(\"push 失败！\")"
   ]
  },
  {
   "cell_type": "code",
   "execution_count": 87,
   "metadata": {},
   "outputs": [
    {
     "name": "stdout",
     "output_type": "stream",
     "text": [
      "开始创建-tomcat_7_jdk8-镜像......\n",
      "镜像构建完成 -(<bound method Image.tag of <Image: 'tomcat_7_jdk8:latest', 'tomcat_7_jdk8:v_3.1', 'registry.cn-shenzhen.aliyuncs.com/bwin/tomcat_7_jdk8:3.1', 'registry.cn-shenzhen.aliyuncs.com/bwin/tomcat_7_jdk8:v_3.1'>>)\n",
      "构建成功，准备push到镜像仓库......\n",
      "b'{\"status\":\"The push refers to a repository [registry.cn-shenzhen.aliyuncs.com/bwin/tomcat_7_jdk8]\"}\\r\\n'\n",
      "b'{\"errorDetail\":{\"message\":\"Get https://registry.cn-shenzhen.aliyuncs.com/v2/: net/http: TLS handshake timeout\"},\"error\":\"Get https://registry.cn-shenzhen.aliyuncs.com/v2/: net/http: TLS handshake timeout\"}\\r\\n'\n",
      "push 完成，请检查push结果。\n"
     ]
    }
   ],
   "source": [
    "if choice == \"1\":\n",
    "    build_ok = build_image(\"tomcat_7_jdk8\",\"registry.cn-shenzhen.aliyuncs.com/bwin/tomcat_7_jdk8\",version,\"./tomcat_7_jdk8\")\n",
    "    if build_ok:\n",
    "        print(\"构建成功，准备push到镜像仓库......\")\n",
    "        try:\n",
    "            for line in client.images.push(repository=\"registry.cn-shenzhen.aliyuncs.com/bwin/tomcat_7_jdk8\",tag=version,stream=True,auth_config={\"username\":\"lihong@namiao\",\"password\":\"BpmPortal123\"}):\n",
    "                print(line)\n",
    "            print(\"push 完成，请检查push结果。\")\n",
    "        except:\n",
    "            print(\"push 失败！\")\n",
    "if choice == \"2\":\n",
    "    build_ok = build_image(\"nginx_tomcat_7_jdk8\",\"registry.cn-shenzhen.aliyuncs.com/bwin/nginx_tomcat\",version,\"./nginx_tomcat_7_jdk8\")\n",
    "    if build_ok:\n",
    "        print(\"构建成功，准备push到镜像仓库......\")\n",
    "        try:\n",
    "            for line in client.images.push(repository=\"egistry.cn-shenzhen.aliyuncs.com/bwin/nginx_tomcat\",tag=version,stream=True,auth_config={\"username\":\"lihong@namiao\",\"password\":\"BpmPortal123\"}):\n",
    "                print(line)\n",
    "            print(\"push 完成，请检查push结果。\")\n",
    "        except:\n",
    "            print(\"push 失败！\")\n",
    "if choice == \"3\":\n",
    "    build_ok = build_image(\"front_service\",\"registry.cn-shenzhen.aliyuncs.com/bwin/front_service\",version,\"./front_service\")\n",
    "    if build_ok:\n",
    "        print(\"构建成功，准备push到镜像仓库......\")\n",
    "        try:\n",
    "            for line in client.images.push(repository=\"egistry.cn-shenzhen.aliyuncs.com/bwin/front_service\",tag=version,stream=True,auth_config={\"username\":\"lihong@namiao\",\"password\":\"BpmPortal123\"}):\n",
    "                print(line)\n",
    "            print(\"push 完成，请检查push结果。\")\n",
    "        except:\n",
    "            print(\"push 失败！\")\n",
    "if choice == \"4\":\n",
    "    build_ok = build_image(\"trade_service\",\"registry.cn-shenzhen.aliyuncs.com/bwin/trade_service\",version,\"./trade_service\")\n",
    "    if build_ok:\n",
    "        print(\"构建成功，准备push到镜像仓库......\")\n",
    "        try:\n",
    "            for line in client.images.push(repository=\"egistry.cn-shenzhen.aliyuncs.com/bwin/trade_service\",tag=version,stream=True,auth_config={\"username\":\"lihong@namiao\",\"password\":\"BpmPortal123\"}):\n",
    "                print(line)\n",
    "            print(\"push 完成，请检查push结果。\")\n",
    "        except:\n",
    "            print(\"push 失败！\")\n",
    "if choice == \"5\":\n",
    "    build_ok = build_image(\"wechat_service\",\"registry.cn-shenzhen.aliyuncs.com/bwin/wechat_service\",version,\"./wechat_service\")\n",
    "    if build_ok:\n",
    "        print(\"构建成功，准备push到镜像仓库......\")\n",
    "        try:\n",
    "            for line in client.images.push(repository=\"egistry.cn-shenzhen.aliyuncs.com/bwin/wechat_service\",tag=version,stream=True,auth_config={\"username\":\"lihong@namiao\",\"password\":\"BpmPortal123\"}):\n",
    "                print(line)\n",
    "            print(\"push 完成，请检查push结果。\")\n",
    "        except:\n",
    "            print(\"push 失败！\")"
   ]
  },
  {
   "cell_type": "code",
   "execution_count": null,
   "metadata": {},
   "outputs": [],
   "source": []
  },
  {
   "cell_type": "code",
   "execution_count": null,
   "metadata": {},
   "outputs": [],
   "source": []
  },
  {
   "cell_type": "code",
   "execution_count": null,
   "metadata": {},
   "outputs": [],
   "source": []
  }
 ],
 "metadata": {
  "kernelspec": {
   "display_name": "Python 3",
   "language": "python",
   "name": "python3"
  }
 },
 "nbformat": 4,
 "nbformat_minor": 2
}
