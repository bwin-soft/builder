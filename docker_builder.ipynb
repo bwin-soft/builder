{
 "cells": [
  {
   "cell_type": "markdown",
   "metadata": {},
   "source": [
    "##### 镜像构建脚本"
   ]
  },
  {
   "cell_type": "code",
   "execution_count": 79,
   "metadata": {},
   "outputs": [
    {
     "name": "stdout",
     "output_type": "stream",
     "text": [
      "lihong@namiao BpmPortal123 registry.cn-shenzhen.aliyuncs.com\n",
      "{'IdentityToken': '', 'Status': 'Login Succeeded'}\n",
      "lihongwansui Internet111 https://index.docker.io/v1/\n",
      "{'IdentityToken': '', 'Status': 'Login Succeeded'}\n"
     ]
    }
   ],
   "source": [
    "import docker\n",
    "import json\n",
    "client = docker.from_env()\n",
    "REGISTRY = \"registry.cn-shenzhen.aliyuncs.com/bwin/\"\n",
    "def login(username=\"lihong@namiao\",password=\"BpmPortal123\",registry=\"registry.cn-shenzhen.aliyuncs.com\"):\n",
    "    user = username\n",
    "    pwd = password\n",
    "    reg = registry\n",
    "    print(user,pwd,reg)\n",
    "    login = client.login(username=user,password=pwd,registry=reg)\n",
    "    print (login)\n",
    "    ok = login[\"Status\"] == \"Login Succeeded\"\n",
    "login() # login to aliyun registry\n",
    "login(username=\"lihongwansui\",password=\"Internet111\",registry=\"https://index.docker.io/v1/\") # login to docker hub"
   ]
  },
  {
   "cell_type": "code",
   "execution_count": 80,
   "metadata": {},
   "outputs": [],
   "source": [
    "def load_versions():\n",
    "    with open('configration.json') as cfg_file:  \n",
    "        cfg = json.load(cfg_file)\n",
    "        return cfg\n",
    "def update_versions(cfg):\n",
    "    with open('configration.json', 'w') as outfile:  \n",
    "        json.dump(cfg, outfile)\n",
    "        \n",
    "versions = load_versions()\n",
    "if len(versions) == 0:\n",
    "    cfg = {\"1\":1,\"2\":1,\"3\":1,\"4\":1,\"5\":1}\n",
    "    update_versions(cfg)\n",
    "    versions = load_versions()\n",
    "    print(versions)"
   ]
  },
  {
   "cell_type": "code",
   "execution_count": 81,
   "metadata": {},
   "outputs": [
    {
     "name": "stdout",
     "output_type": "stream",
     "text": [
      " \n",
      "      1.tomcat7 + jdk8; \n",
      "      2.nginx + tomcat7 + jdk8;\n",
      "      3.front service; \n",
      "      4.trade service; \n",
      "      5.wechat service; \n",
      "      \n"
     ]
    }
   ],
   "source": [
    "print(\" \\n\\\n",
    "      1.tomcat7 + jdk8; \\n\\\n",
    "      2.nginx + tomcat7 + jdk8;\\n\\\n",
    "      3.front service; \\n\\\n",
    "      4.trade service; \\n\\\n",
    "      5.wechat service; \\n\\\n",
    "      \")"
   ]
  },
  {
   "cell_type": "code",
   "execution_count": 88,
   "metadata": {},
   "outputs": [
    {
     "name": "stdout",
     "output_type": "stream",
     "text": [
      "选择要创建的镜像: r\n"
     ]
    },
    {
     "ename": "SyntaxError",
     "evalue": "'return' outside function (<ipython-input-88-0617c449672d>, line 6)",
     "output_type": "error",
     "traceback": [
      "\u001b[0;36m  File \u001b[0;32m\"<ipython-input-88-0617c449672d>\"\u001b[0;36m, line \u001b[0;32m6\u001b[0m\n\u001b[0;31m    return\u001b[0m\n\u001b[0m    ^\u001b[0m\n\u001b[0;31mSyntaxError\u001b[0m\u001b[0;31m:\u001b[0m 'return' outside function\n"
     ]
    }
   ],
   "source": [
    "choice = input(\"选择要创建的镜像: \") \n",
    "if versions.has(choice):\n",
    "    print(\"当前版本号:{}\".format(versions[choice]))\n",
    "else:\n",
    "    print(\"选择错误！\")\n",
    "    #exit\n",
    "version = input(\"输入新版本号:\")"
   ]
  },
  {
   "cell_type": "code",
   "execution_count": 83,
   "metadata": {},
   "outputs": [],
   "source": [
    "def build_image(image_name,registry,tg,docker_path):\n",
    "    build_ok = True\n",
    "    try:\n",
    "        print(\"开始创建-{}-镜像......\".format(image_name))\n",
    "        image = client.images.build(path=docker_path,tag=\"{}:{}\".format(registry,tg),rm=True,pull=True,quiet=False)\n",
    "        print(\"镜像构建完成 -({})\".format(image.tag))\n",
    "    except docker.errors.BuildError as be:\n",
    "        build_ok = False\n",
    "        print(\"镜像构建错误: {0}\".format(be))\n",
    "    except docker.errors.APIError as ae:\n",
    "        build_ok = False\n",
    "        print(\"镜像构建错误: {0}\".format(ae))\n",
    "    except TypeError as te:\n",
    "        build_ok = False\n",
    "        print(\"镜像构建错误: {0}\".format(te))\n",
    "    versions[1] = tg\n",
    "    update_versions(versions)\n",
    "    return build_ok\n",
    "\n"
   ]
  },
  {
   "cell_type": "code",
   "execution_count": 87,
   "metadata": {},
   "outputs": [
    {
     "name": "stdout",
     "output_type": "stream",
     "text": [
      "开始创建-tomcat_7_jdk8-镜像......\n",
      "镜像构建完成 -(<bound method Image.tag of <Image: 'tomcat_7_jdk8:latest', 'tomcat_7_jdk8:v_3.1', 'registry.cn-shenzhen.aliyuncs.com/bwin/tomcat_7_jdk8:3.1', 'registry.cn-shenzhen.aliyuncs.com/bwin/tomcat_7_jdk8:v_3.1'>>)\n",
      "构建成功，准备push到镜像仓库......\n",
      "b'{\"status\":\"The push refers to a repository [registry.cn-shenzhen.aliyuncs.com/bwin/tomcat_7_jdk8]\"}\\r\\n'\n",
      "b'{\"errorDetail\":{\"message\":\"Get https://registry.cn-shenzhen.aliyuncs.com/v2/: net/http: TLS handshake timeout\"},\"error\":\"Get https://registry.cn-shenzhen.aliyuncs.com/v2/: net/http: TLS handshake timeout\"}\\r\\n'\n",
      "push 完成，请检查push结果。\n"
     ]
    }
   ],
   "source": [
    "if choice == \"1\":\n",
    "    build_ok = build_image(\"tomcat_7_jdk8\",\"registry.cn-shenzhen.aliyuncs.com/bwin/tomcat_7_jdk8\",version,\"./tomcat_7_jdk8\")\n",
    "    if build_ok:\n",
    "        print(\"构建成功，准备push到镜像仓库......\")\n",
    "        try:\n",
    "            for line in client.images.push(repository=\"registry.cn-shenzhen.aliyuncs.com/bwin/tomcat_7_jdk8\",tag=version,stream=True,auth_config={\"username\":\"lihong@namiao\",\"password\":\"BpmPortal123\"}):\n",
    "                print(line)\n",
    "            print(\"push 完成，请检查push结果。\")\n",
    "        except:\n",
    "            print(\"push 失败！\")\n",
    "if choice == \"2\":\n",
    "    build_ok = build_image(\"nginx_tomcat_7_jdk8\",\"registry.cn-shenzhen.aliyuncs.com/bwin/nginx_tomcat\",version,\"./nginx_tomcat_7_jdk8\")\n",
    "    if build_ok:\n",
    "        print(\"构建成功，准备push到镜像仓库......\")\n",
    "        try:\n",
    "            for line in client.images.push(repository=\"egistry.cn-shenzhen.aliyuncs.com/bwin/nginx_tomcat\",tag=version,stream=True,auth_config={\"username\":\"lihong@namiao\",\"password\":\"BpmPortal123\"}):\n",
    "                print(line)\n",
    "            print(\"push 完成，请检查push结果。\")\n",
    "        except:\n",
    "            print(\"push 失败！\")\n",
    "if choice == \"3\":\n",
    "    build_ok = build_image(\"front_service\",\"registry.cn-shenzhen.aliyuncs.com/bwin/front_service\",version,\"./front_service\")\n",
    "    if build_ok:\n",
    "        print(\"构建成功，准备push到镜像仓库......\")\n",
    "        try:\n",
    "            for line in client.images.push(repository=\"egistry.cn-shenzhen.aliyuncs.com/bwin/front_service\",tag=version,stream=True,auth_config={\"username\":\"lihong@namiao\",\"password\":\"BpmPortal123\"}):\n",
    "                print(line)\n",
    "            print(\"push 完成，请检查push结果。\")\n",
    "        except:\n",
    "            print(\"push 失败！\")\n",
    "if choice == \"4\":\n",
    "    build_ok = build_image(\"trade_service\",\"registry.cn-shenzhen.aliyuncs.com/bwin/trade_service\",version,\"./trade_service\")\n",
    "    if build_ok:\n",
    "        print(\"构建成功，准备push到镜像仓库......\")\n",
    "        try:\n",
    "            for line in client.images.push(repository=\"egistry.cn-shenzhen.aliyuncs.com/bwin/trade_service\",tag=version,stream=True,auth_config={\"username\":\"lihong@namiao\",\"password\":\"BpmPortal123\"}):\n",
    "                print(line)\n",
    "            print(\"push 完成，请检查push结果。\")\n",
    "        except:\n",
    "            print(\"push 失败！\")\n",
    "if choice == \"5\":\n",
    "    build_ok = build_image(\"wechat_service\",\"registry.cn-shenzhen.aliyuncs.com/bwin/wechat_service\",version,\"./wechat_service\")\n",
    "    if build_ok:\n",
    "        print(\"构建成功，准备push到镜像仓库......\")\n",
    "        try:\n",
    "            for line in client.images.push(repository=\"egistry.cn-shenzhen.aliyuncs.com/bwin/wechat_service\",tag=version,stream=True,auth_config={\"username\":\"lihong@namiao\",\"password\":\"BpmPortal123\"}):\n",
    "                print(line)\n",
    "            print(\"push 完成，请检查push结果。\")\n",
    "        except:\n",
    "            print(\"push 失败！\")"
   ]
  },
  {
   "cell_type": "code",
   "execution_count": null,
   "metadata": {},
   "outputs": [],
   "source": []
  },
  {
   "cell_type": "code",
   "execution_count": null,
   "metadata": {},
   "outputs": [],
   "source": []
  },
  {
   "cell_type": "code",
   "execution_count": null,
   "metadata": {},
   "outputs": [],
   "source": []
  }
 ],
 "metadata": {
  "kernelspec": {
   "display_name": "Python 3",
   "language": "python",
   "name": "python3"
  },
  "language_info": {
   "codemirror_mode": {
    "name": "ipython",
    "version": 3
   },
   "file_extension": ".py",
   "mimetype": "text/x-python",
   "name": "python",
   "nbconvert_exporter": "python",
   "pygments_lexer": "ipython3",
   "version": "3.6.1"
  }
 },
 "nbformat": 4,
 "nbformat_minor": 2
}
