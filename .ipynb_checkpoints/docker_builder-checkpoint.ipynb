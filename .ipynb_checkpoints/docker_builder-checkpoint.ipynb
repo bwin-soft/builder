{
 "cells": [
  {
   "cell_type": "markdown",
   "metadata": {},
   "source": [
    "##### 镜像构建脚本"
   ]
  },
  {
   "cell_type": "code",
   "execution_count": 1,
   "metadata": {},
   "outputs": [
    {
     "name": "stdout",
     "output_type": "stream",
     "text": [
      "lihong@namiao BpmPortal123 registry.cn-shenzhen.aliyuncs.com\n"
     ]
    },
    {
     "ename": "APIError",
     "evalue": "500 Server Error: Internal Server Error (\"Get https://registry.cn-shenzhen.aliyuncs.com/v2/: net/http: request canceled while waiting for connection (Client.Timeout exceeded while awaiting headers)\")",
     "output_type": "error",
     "traceback": [
      "\u001b[0;31m---------------------------------------------------------------------------\u001b[0m",
      "\u001b[0;31mHTTPError\u001b[0m                                 Traceback (most recent call last)",
      "\u001b[0;32m~/miniconda3/lib/python3.6/site-packages/docker/api/client.py\u001b[0m in \u001b[0;36m_raise_for_status\u001b[0;34m(self, response)\u001b[0m\n\u001b[1;32m    221\u001b[0m         \u001b[0;32mtry\u001b[0m\u001b[0;34m:\u001b[0m\u001b[0;34m\u001b[0m\u001b[0m\n\u001b[0;32m--> 222\u001b[0;31m             \u001b[0mresponse\u001b[0m\u001b[0;34m.\u001b[0m\u001b[0mraise_for_status\u001b[0m\u001b[0;34m(\u001b[0m\u001b[0;34m)\u001b[0m\u001b[0;34m\u001b[0m\u001b[0m\n\u001b[0m\u001b[1;32m    223\u001b[0m         \u001b[0;32mexcept\u001b[0m \u001b[0mrequests\u001b[0m\u001b[0;34m.\u001b[0m\u001b[0mexceptions\u001b[0m\u001b[0;34m.\u001b[0m\u001b[0mHTTPError\u001b[0m \u001b[0;32mas\u001b[0m \u001b[0me\u001b[0m\u001b[0;34m:\u001b[0m\u001b[0;34m\u001b[0m\u001b[0m\n",
      "\u001b[0;32m~/miniconda3/lib/python3.6/site-packages/requests/models.py\u001b[0m in \u001b[0;36mraise_for_status\u001b[0;34m(self)\u001b[0m\n\u001b[1;32m    927\u001b[0m         \u001b[0;32mif\u001b[0m \u001b[0mhttp_error_msg\u001b[0m\u001b[0;34m:\u001b[0m\u001b[0;34m\u001b[0m\u001b[0m\n\u001b[0;32m--> 928\u001b[0;31m             \u001b[0;32mraise\u001b[0m \u001b[0mHTTPError\u001b[0m\u001b[0;34m(\u001b[0m\u001b[0mhttp_error_msg\u001b[0m\u001b[0;34m,\u001b[0m \u001b[0mresponse\u001b[0m\u001b[0;34m=\u001b[0m\u001b[0mself\u001b[0m\u001b[0;34m)\u001b[0m\u001b[0;34m\u001b[0m\u001b[0m\n\u001b[0m\u001b[1;32m    929\u001b[0m \u001b[0;34m\u001b[0m\u001b[0m\n",
      "\u001b[0;31mHTTPError\u001b[0m: 500 Server Error: Internal Server Error for url: http+docker://localunixsocket/v1.30/auth",
      "\nDuring handling of the above exception, another exception occurred:\n",
      "\u001b[0;31mAPIError\u001b[0m                                  Traceback (most recent call last)",
      "\u001b[0;32m<ipython-input-1-9c681f290dd6>\u001b[0m in \u001b[0;36m<module>\u001b[0;34m()\u001b[0m\n\u001b[1;32m     12\u001b[0m     \u001b[0mprint\u001b[0m \u001b[0;34m(\u001b[0m\u001b[0mlogin\u001b[0m\u001b[0;34m)\u001b[0m\u001b[0;34m\u001b[0m\u001b[0m\n\u001b[1;32m     13\u001b[0m     \u001b[0mok\u001b[0m \u001b[0;34m=\u001b[0m \u001b[0mlogin\u001b[0m\u001b[0;34m[\u001b[0m\u001b[0;34m\"Status\"\u001b[0m\u001b[0;34m]\u001b[0m \u001b[0;34m==\u001b[0m \u001b[0;34m\"Login Succeeded\"\u001b[0m\u001b[0;34m\u001b[0m\u001b[0m\n\u001b[0;32m---> 14\u001b[0;31m \u001b[0mlogin\u001b[0m\u001b[0;34m(\u001b[0m\u001b[0;34m)\u001b[0m \u001b[0;31m# login to aliyun registry\u001b[0m\u001b[0;34m\u001b[0m\u001b[0m\n\u001b[0m\u001b[1;32m     15\u001b[0m \u001b[0mlogin\u001b[0m\u001b[0;34m(\u001b[0m\u001b[0musername\u001b[0m\u001b[0;34m=\u001b[0m\u001b[0;34m\"lihongwansui\"\u001b[0m\u001b[0;34m,\u001b[0m\u001b[0mpassword\u001b[0m\u001b[0;34m=\u001b[0m\u001b[0;34m\"Internet111\"\u001b[0m\u001b[0;34m,\u001b[0m\u001b[0mregistry\u001b[0m\u001b[0;34m=\u001b[0m\u001b[0;34m\"https://index.docker.io/v1/\"\u001b[0m\u001b[0;34m)\u001b[0m \u001b[0;31m# login to docker hub\u001b[0m\u001b[0;34m\u001b[0m\u001b[0m\n",
      "\u001b[0;32m<ipython-input-1-9c681f290dd6>\u001b[0m in \u001b[0;36mlogin\u001b[0;34m(username, password, registry)\u001b[0m\n\u001b[1;32m      9\u001b[0m     \u001b[0mreg\u001b[0m \u001b[0;34m=\u001b[0m \u001b[0mregistry\u001b[0m\u001b[0;34m\u001b[0m\u001b[0m\n\u001b[1;32m     10\u001b[0m     \u001b[0mprint\u001b[0m\u001b[0;34m(\u001b[0m\u001b[0muser\u001b[0m\u001b[0;34m,\u001b[0m\u001b[0mpwd\u001b[0m\u001b[0;34m,\u001b[0m\u001b[0mreg\u001b[0m\u001b[0;34m)\u001b[0m\u001b[0;34m\u001b[0m\u001b[0m\n\u001b[0;32m---> 11\u001b[0;31m     \u001b[0mlogin\u001b[0m \u001b[0;34m=\u001b[0m \u001b[0mclient\u001b[0m\u001b[0;34m.\u001b[0m\u001b[0mlogin\u001b[0m\u001b[0;34m(\u001b[0m\u001b[0musername\u001b[0m\u001b[0;34m=\u001b[0m\u001b[0muser\u001b[0m\u001b[0;34m,\u001b[0m\u001b[0mpassword\u001b[0m\u001b[0;34m=\u001b[0m\u001b[0mpwd\u001b[0m\u001b[0;34m,\u001b[0m\u001b[0mregistry\u001b[0m\u001b[0;34m=\u001b[0m\u001b[0mreg\u001b[0m\u001b[0;34m)\u001b[0m\u001b[0;34m\u001b[0m\u001b[0m\n\u001b[0m\u001b[1;32m     12\u001b[0m     \u001b[0mprint\u001b[0m \u001b[0;34m(\u001b[0m\u001b[0mlogin\u001b[0m\u001b[0;34m)\u001b[0m\u001b[0;34m\u001b[0m\u001b[0m\n\u001b[1;32m     13\u001b[0m     \u001b[0mok\u001b[0m \u001b[0;34m=\u001b[0m \u001b[0mlogin\u001b[0m\u001b[0;34m[\u001b[0m\u001b[0;34m\"Status\"\u001b[0m\u001b[0;34m]\u001b[0m \u001b[0;34m==\u001b[0m \u001b[0;34m\"Login Succeeded\"\u001b[0m\u001b[0;34m\u001b[0m\u001b[0m\n",
      "\u001b[0;32m~/miniconda3/lib/python3.6/site-packages/docker/client.py\u001b[0m in \u001b[0;36mlogin\u001b[0;34m(self, *args, **kwargs)\u001b[0m\n\u001b[1;32m    176\u001b[0m \u001b[0;34m\u001b[0m\u001b[0m\n\u001b[1;32m    177\u001b[0m     \u001b[0;32mdef\u001b[0m \u001b[0mlogin\u001b[0m\u001b[0;34m(\u001b[0m\u001b[0mself\u001b[0m\u001b[0;34m,\u001b[0m \u001b[0;34m*\u001b[0m\u001b[0margs\u001b[0m\u001b[0;34m,\u001b[0m \u001b[0;34m**\u001b[0m\u001b[0mkwargs\u001b[0m\u001b[0;34m)\u001b[0m\u001b[0;34m:\u001b[0m\u001b[0;34m\u001b[0m\u001b[0m\n\u001b[0;32m--> 178\u001b[0;31m         \u001b[0;32mreturn\u001b[0m \u001b[0mself\u001b[0m\u001b[0;34m.\u001b[0m\u001b[0mapi\u001b[0m\u001b[0;34m.\u001b[0m\u001b[0mlogin\u001b[0m\u001b[0;34m(\u001b[0m\u001b[0;34m*\u001b[0m\u001b[0margs\u001b[0m\u001b[0;34m,\u001b[0m \u001b[0;34m**\u001b[0m\u001b[0mkwargs\u001b[0m\u001b[0;34m)\u001b[0m\u001b[0;34m\u001b[0m\u001b[0m\n\u001b[0m\u001b[1;32m    179\u001b[0m     \u001b[0mlogin\u001b[0m\u001b[0;34m.\u001b[0m\u001b[0m__doc__\u001b[0m \u001b[0;34m=\u001b[0m \u001b[0mAPIClient\u001b[0m\u001b[0;34m.\u001b[0m\u001b[0mlogin\u001b[0m\u001b[0;34m.\u001b[0m\u001b[0m__doc__\u001b[0m\u001b[0;34m\u001b[0m\u001b[0m\n\u001b[1;32m    180\u001b[0m \u001b[0;34m\u001b[0m\u001b[0m\n",
      "\u001b[0;32m~/miniconda3/lib/python3.6/site-packages/docker/api/daemon.py\u001b[0m in \u001b[0;36mlogin\u001b[0;34m(self, username, password, email, registry, reauth, insecure_registry, dockercfg_path)\u001b[0m\n\u001b[1;32m    146\u001b[0m         \u001b[0;32mif\u001b[0m \u001b[0mresponse\u001b[0m\u001b[0;34m.\u001b[0m\u001b[0mstatus_code\u001b[0m \u001b[0;34m==\u001b[0m \u001b[0;36m200\u001b[0m\u001b[0;34m:\u001b[0m\u001b[0;34m\u001b[0m\u001b[0m\n\u001b[1;32m    147\u001b[0m             \u001b[0mself\u001b[0m\u001b[0;34m.\u001b[0m\u001b[0m_auth_configs\u001b[0m\u001b[0;34m[\u001b[0m\u001b[0mregistry\u001b[0m \u001b[0;32mor\u001b[0m \u001b[0mauth\u001b[0m\u001b[0;34m.\u001b[0m\u001b[0mINDEX_NAME\u001b[0m\u001b[0;34m]\u001b[0m \u001b[0;34m=\u001b[0m \u001b[0mreq_data\u001b[0m\u001b[0;34m\u001b[0m\u001b[0m\n\u001b[0;32m--> 148\u001b[0;31m         \u001b[0;32mreturn\u001b[0m \u001b[0mself\u001b[0m\u001b[0;34m.\u001b[0m\u001b[0m_result\u001b[0m\u001b[0;34m(\u001b[0m\u001b[0mresponse\u001b[0m\u001b[0;34m,\u001b[0m \u001b[0mjson\u001b[0m\u001b[0;34m=\u001b[0m\u001b[0;32mTrue\u001b[0m\u001b[0;34m)\u001b[0m\u001b[0;34m\u001b[0m\u001b[0m\n\u001b[0m\u001b[1;32m    149\u001b[0m \u001b[0;34m\u001b[0m\u001b[0m\n\u001b[1;32m    150\u001b[0m     \u001b[0;32mdef\u001b[0m \u001b[0mping\u001b[0m\u001b[0;34m(\u001b[0m\u001b[0mself\u001b[0m\u001b[0;34m)\u001b[0m\u001b[0;34m:\u001b[0m\u001b[0;34m\u001b[0m\u001b[0m\n",
      "\u001b[0;32m~/miniconda3/lib/python3.6/site-packages/docker/api/client.py\u001b[0m in \u001b[0;36m_result\u001b[0;34m(self, response, json, binary)\u001b[0m\n\u001b[1;32m    226\u001b[0m     \u001b[0;32mdef\u001b[0m \u001b[0m_result\u001b[0m\u001b[0;34m(\u001b[0m\u001b[0mself\u001b[0m\u001b[0;34m,\u001b[0m \u001b[0mresponse\u001b[0m\u001b[0;34m,\u001b[0m \u001b[0mjson\u001b[0m\u001b[0;34m=\u001b[0m\u001b[0;32mFalse\u001b[0m\u001b[0;34m,\u001b[0m \u001b[0mbinary\u001b[0m\u001b[0;34m=\u001b[0m\u001b[0;32mFalse\u001b[0m\u001b[0;34m)\u001b[0m\u001b[0;34m:\u001b[0m\u001b[0;34m\u001b[0m\u001b[0m\n\u001b[1;32m    227\u001b[0m         \u001b[0;32massert\u001b[0m \u001b[0;32mnot\u001b[0m \u001b[0;34m(\u001b[0m\u001b[0mjson\u001b[0m \u001b[0;32mand\u001b[0m \u001b[0mbinary\u001b[0m\u001b[0;34m)\u001b[0m\u001b[0;34m\u001b[0m\u001b[0m\n\u001b[0;32m--> 228\u001b[0;31m         \u001b[0mself\u001b[0m\u001b[0;34m.\u001b[0m\u001b[0m_raise_for_status\u001b[0m\u001b[0;34m(\u001b[0m\u001b[0mresponse\u001b[0m\u001b[0;34m)\u001b[0m\u001b[0;34m\u001b[0m\u001b[0m\n\u001b[0m\u001b[1;32m    229\u001b[0m \u001b[0;34m\u001b[0m\u001b[0m\n\u001b[1;32m    230\u001b[0m         \u001b[0;32mif\u001b[0m \u001b[0mjson\u001b[0m\u001b[0;34m:\u001b[0m\u001b[0;34m\u001b[0m\u001b[0m\n",
      "\u001b[0;32m~/miniconda3/lib/python3.6/site-packages/docker/api/client.py\u001b[0m in \u001b[0;36m_raise_for_status\u001b[0;34m(self, response)\u001b[0m\n\u001b[1;32m    222\u001b[0m             \u001b[0mresponse\u001b[0m\u001b[0;34m.\u001b[0m\u001b[0mraise_for_status\u001b[0m\u001b[0;34m(\u001b[0m\u001b[0;34m)\u001b[0m\u001b[0;34m\u001b[0m\u001b[0m\n\u001b[1;32m    223\u001b[0m         \u001b[0;32mexcept\u001b[0m \u001b[0mrequests\u001b[0m\u001b[0;34m.\u001b[0m\u001b[0mexceptions\u001b[0m\u001b[0;34m.\u001b[0m\u001b[0mHTTPError\u001b[0m \u001b[0;32mas\u001b[0m \u001b[0me\u001b[0m\u001b[0;34m:\u001b[0m\u001b[0;34m\u001b[0m\u001b[0m\n\u001b[0;32m--> 224\u001b[0;31m             \u001b[0;32mraise\u001b[0m \u001b[0mcreate_api_error_from_http_exception\u001b[0m\u001b[0;34m(\u001b[0m\u001b[0me\u001b[0m\u001b[0;34m)\u001b[0m\u001b[0;34m\u001b[0m\u001b[0m\n\u001b[0m\u001b[1;32m    225\u001b[0m \u001b[0;34m\u001b[0m\u001b[0m\n\u001b[1;32m    226\u001b[0m     \u001b[0;32mdef\u001b[0m \u001b[0m_result\u001b[0m\u001b[0;34m(\u001b[0m\u001b[0mself\u001b[0m\u001b[0;34m,\u001b[0m \u001b[0mresponse\u001b[0m\u001b[0;34m,\u001b[0m \u001b[0mjson\u001b[0m\u001b[0;34m=\u001b[0m\u001b[0;32mFalse\u001b[0m\u001b[0;34m,\u001b[0m \u001b[0mbinary\u001b[0m\u001b[0;34m=\u001b[0m\u001b[0;32mFalse\u001b[0m\u001b[0;34m)\u001b[0m\u001b[0;34m:\u001b[0m\u001b[0;34m\u001b[0m\u001b[0m\n",
      "\u001b[0;32m~/miniconda3/lib/python3.6/site-packages/docker/errors.py\u001b[0m in \u001b[0;36mcreate_api_error_from_http_exception\u001b[0;34m(e)\u001b[0m\n\u001b[1;32m     29\u001b[0m         \u001b[0;32melse\u001b[0m\u001b[0;34m:\u001b[0m\u001b[0;34m\u001b[0m\u001b[0m\n\u001b[1;32m     30\u001b[0m             \u001b[0mcls\u001b[0m \u001b[0;34m=\u001b[0m \u001b[0mNotFound\u001b[0m\u001b[0;34m\u001b[0m\u001b[0m\n\u001b[0;32m---> 31\u001b[0;31m     \u001b[0;32mraise\u001b[0m \u001b[0mcls\u001b[0m\u001b[0;34m(\u001b[0m\u001b[0me\u001b[0m\u001b[0;34m,\u001b[0m \u001b[0mresponse\u001b[0m\u001b[0;34m=\u001b[0m\u001b[0mresponse\u001b[0m\u001b[0;34m,\u001b[0m \u001b[0mexplanation\u001b[0m\u001b[0;34m=\u001b[0m\u001b[0mexplanation\u001b[0m\u001b[0;34m)\u001b[0m\u001b[0;34m\u001b[0m\u001b[0m\n\u001b[0m\u001b[1;32m     32\u001b[0m \u001b[0;34m\u001b[0m\u001b[0m\n\u001b[1;32m     33\u001b[0m \u001b[0;34m\u001b[0m\u001b[0m\n",
      "\u001b[0;31mAPIError\u001b[0m: 500 Server Error: Internal Server Error (\"Get https://registry.cn-shenzhen.aliyuncs.com/v2/: net/http: request canceled while waiting for connection (Client.Timeout exceeded while awaiting headers)\")"
     ]
    }
   ],
   "source": [
    "import docker\n",
    "import json\n",
    "import os\n",
    "client = docker.from_env()\n",
    "REGISTRY = \"registry.cn-shenzhen.aliyuncs.com/bwin/\"\n",
    "def login(username=\"lihong@namiao\",password=\"BpmPortal123\",registry=\"registry.cn-shenzhen.aliyuncs.com\"):\n",
    "    user = username\n",
    "    pwd = password\n",
    "    reg = registry\n",
    "    print(user,pwd,reg)\n",
    "    login = client.login(username=user,password=pwd,registry=reg)\n",
    "    print (login)\n",
    "    ok = login[\"Status\"] == \"Login Succeeded\"\n",
    "login() # login to aliyun registry\n",
    "login(username=\"lihongwansui\",password=\"Internet111\",registry=\"https://index.docker.io/v1/\") # login to docker hub"
   ]
  },
  {
   "cell_type": "code",
   "execution_count": 2,
   "metadata": {},
   "outputs": [],
   "source": [
    "def load_versions(fp):\n",
    "    with open('configration.json') as cfg_file:  \n",
    "        cfg = json.load(cfg_file)\n",
    "        return cfg\n",
    "def update_versions(cfg):\n",
    "    with open('configration.json', 'w') as outfile:  \n",
    "        json.dump(cfg, outfile)\n",
    "        \n",
    "versions = load_versions()\n",
    "if len(versions) == 0:\n",
    "    cfg = {\"1\":1,\"2\":1,\"3\":1,\"4\":1,\"5\":1}\n",
    "    update_versions(cfg)\n",
    "    versions = load_versions()\n",
    "    print(versions)"
   ]
  },
  {
   "cell_type": "code",
   "execution_count": null,
   "metadata": {},
   "outputs": [],
   "source": [
    "dirs =  [fn for fn in os.listdir('.')\n",
    "              if os.path.isdir(fn) and os.path.exists(os.path.join(fn,\"image.conf\"))]\n",
    "#print (dirs)\n",
    "menus = {}\n",
    "menu_idx = 1\n",
    "for fn in dirs:\n",
    "    with open(os.path.join(fn,'image.conf')) as cfg_file:  \n",
    "        cfg = json.load(cfg_file)\n",
    "        menus[str(menu_idx)] = ((cfg['image'],cfg['registry'],cfg['last_version'],fn))\n",
    "    menu_idx += 1\n",
    "for idx,de in menus.items():\n",
    "    img,reg,ver,fn = de\n",
    "    print (idx,\":\",\"[\",img,\"]\",\",当前版本:\",ver)\n",
    "    print (de)"
   ]
  },
  {
   "cell_type": "code",
   "execution_count": null,
   "metadata": {},
   "outputs": [
    {
     "name": "stdout",
     "output_type": "stream",
     "text": [
      "选择要创建的镜像: 1\n",
      "当前版本号:1.0\n"
     ]
    }
   ],
   "source": [
    "choice = input(\"选择要创建的镜像: \") \n",
    "if choice in menus:\n",
    "    print(\"当前版本号:{}\".format(menus[choice][2]))\n",
    "else:\n",
    "    print(\"选择错误！\")\n",
    "    #exit\n",
    "version = input(\"输入新版本号:\")\n"
   ]
  },
  {
   "cell_type": "code",
   "execution_count": 83,
   "metadata": {},
   "outputs": [],
   "source": [
    "def build_image(image_name,registry,tg,docker_path):\n",
    "    build_ok = True\n",
    "    try:\n",
    "        print(\"开始创建-{}-镜像......\".format(image_name))\n",
    "        image = client.images.build(path=docker_path,tag=\"{}:{}\".format(registry,tg),rm=True,pull=True,quiet=False)\n",
    "        print(\"镜像构建完成 -({})\".format(image.tag))\n",
    "    except docker.errors.BuildError as be:\n",
    "        build_ok = False\n",
    "        print(\"镜像构建错误: {0}\".format(be))\n",
    "    except docker.errors.APIError as ae:\n",
    "        build_ok = False\n",
    "        print(\"镜像构建错误: {0}\".format(ae))\n",
    "    except TypeError as te:\n",
    "        build_ok = False\n",
    "        print(\"镜像构建错误: {0}\".format(te))\n",
    "    versions[1] = tg\n",
    "    update_versions(versions)\n",
    "    return build_ok\n",
    "\n",
    "def run_task(name, registry, version, path):\n",
    "    build_ok = build_image(name, registry, version, path)\n",
    "    if build_ok:\n",
    "        print(\"构建成功，准备push到镜像仓库......\")\n",
    "        try:\n",
    "            for line in client.images.push(\n",
    "                    repository=registry,\n",
    "                    tag=version,\n",
    "                    stream=True,\n",
    "                    auth_config={\n",
    "                        \"username\": \"lihong@namiao\",\n",
    "                        \"password\": \"BpmPortal123\"\n",
    "                    }):\n",
    "                print(line)\n",
    "            print(\"push 完成，请检查push结果。\")\n",
    "        except:\n",
    "            print(\"push 失败！\")"
   ]
  },
  {
   "cell_type": "code",
   "execution_count": 87,
   "metadata": {},
   "outputs": [
    {
     "name": "stdout",
     "output_type": "stream",
     "text": [
      "开始创建-tomcat_7_jdk8-镜像......\n",
      "镜像构建完成 -(<bound method Image.tag of <Image: 'tomcat_7_jdk8:latest', 'tomcat_7_jdk8:v_3.1', 'registry.cn-shenzhen.aliyuncs.com/bwin/tomcat_7_jdk8:3.1', 'registry.cn-shenzhen.aliyuncs.com/bwin/tomcat_7_jdk8:v_3.1'>>)\n",
      "构建成功，准备push到镜像仓库......\n",
      "b'{\"status\":\"The push refers to a repository [registry.cn-shenzhen.aliyuncs.com/bwin/tomcat_7_jdk8]\"}\\r\\n'\n",
      "b'{\"errorDetail\":{\"message\":\"Get https://registry.cn-shenzhen.aliyuncs.com/v2/: net/http: TLS handshake timeout\"},\"error\":\"Get https://registry.cn-shenzhen.aliyuncs.com/v2/: net/http: TLS handshake timeout\"}\\r\\n'\n",
      "push 完成，请检查push结果。\n"
     ]
    }
   ],
   "source": [
    "if choice == \"1\":\n",
    "    build_ok = build_image(\"tomcat_7_jdk8\",\"registry.cn-shenzhen.aliyuncs.com/bwin/tomcat_7_jdk8\",version,\"./tomcat_7_jdk8\")\n",
    "    if build_ok:\n",
    "        print(\"构建成功，准备push到镜像仓库......\")\n",
    "        try:\n",
    "            for line in client.images.push(repository=\"registry.cn-shenzhen.aliyuncs.com/bwin/tomcat_7_jdk8\",tag=version,stream=True,auth_config={\"username\":\"lihong@namiao\",\"password\":\"BpmPortal123\"}):\n",
    "                print(line)\n",
    "            print(\"push 完成，请检查push结果。\")\n",
    "        except:\n",
    "            print(\"push 失败！\")\n",
    "if choice == \"2\":\n",
    "    build_ok = build_image(\"nginx_tomcat_7_jdk8\",\"registry.cn-shenzhen.aliyuncs.com/bwin/nginx_tomcat\",version,\"./nginx_tomcat_7_jdk8\")\n",
    "    if build_ok:\n",
    "        print(\"构建成功，准备push到镜像仓库......\")\n",
    "        try:\n",
    "            for line in client.images.push(repository=\"egistry.cn-shenzhen.aliyuncs.com/bwin/nginx_tomcat\",tag=version,stream=True,auth_config={\"username\":\"lihong@namiao\",\"password\":\"BpmPortal123\"}):\n",
    "                print(line)\n",
    "            print(\"push 完成，请检查push结果。\")\n",
    "        except:\n",
    "            print(\"push 失败！\")\n",
    "if choice == \"3\":\n",
    "    build_ok = build_image(\"front_service\",\"registry.cn-shenzhen.aliyuncs.com/bwin/front_service\",version,\"./front_service\")\n",
    "    if build_ok:\n",
    "        print(\"构建成功，准备push到镜像仓库......\")\n",
    "        try:\n",
    "            for line in client.images.push(repository=\"egistry.cn-shenzhen.aliyuncs.com/bwin/front_service\",tag=version,stream=True,auth_config={\"username\":\"lihong@namiao\",\"password\":\"BpmPortal123\"}):\n",
    "                print(line)\n",
    "            print(\"push 完成，请检查push结果。\")\n",
    "        except:\n",
    "            print(\"push 失败！\")\n",
    "if choice == \"4\":\n",
    "    build_ok = build_image(\"trade_service\",\"registry.cn-shenzhen.aliyuncs.com/bwin/trade_service\",version,\"./trade_service\")\n",
    "    if build_ok:\n",
    "        print(\"构建成功，准备push到镜像仓库......\")\n",
    "        try:\n",
    "            for line in client.images.push(repository=\"egistry.cn-shenzhen.aliyuncs.com/bwin/trade_service\",tag=version,stream=True,auth_config={\"username\":\"lihong@namiao\",\"password\":\"BpmPortal123\"}):\n",
    "                print(line)\n",
    "            print(\"push 完成，请检查push结果。\")\n",
    "        except:\n",
    "            print(\"push 失败！\")\n",
    "if choice == \"5\":\n",
    "    build_ok = build_image(\"wechat_service\",\"registry.cn-shenzhen.aliyuncs.com/bwin/wechat_service\",version,\"./wechat_service\")\n",
    "    if build_ok:\n",
    "        print(\"构建成功，准备push到镜像仓库......\")\n",
    "        try:\n",
    "            for line in client.images.push(repository=\"egistry.cn-shenzhen.aliyuncs.com/bwin/wechat_service\",tag=version,stream=True,auth_config={\"username\":\"lihong@namiao\",\"password\":\"BpmPortal123\"}):\n",
    "                print(line)\n",
    "            print(\"push 完成，请检查push结果。\")\n",
    "        except:\n",
    "            print(\"push 失败！\")"
   ]
  },
  {
   "cell_type": "code",
   "execution_count": null,
   "metadata": {},
   "outputs": [],
   "source": []
  },
  {
   "cell_type": "code",
   "execution_count": null,
   "metadata": {},
   "outputs": [],
   "source": []
  },
  {
   "cell_type": "code",
   "execution_count": null,
   "metadata": {},
   "outputs": [],
   "source": []
  }
 ],
 "metadata": {
  "kernelspec": {
   "display_name": "Python 3",
   "language": "python",
   "name": "python3"
  }
 },
 "nbformat": 4,
 "nbformat_minor": 2
}
